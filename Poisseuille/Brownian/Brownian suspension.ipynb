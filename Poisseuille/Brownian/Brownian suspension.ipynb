{
 "cells": [
  {
   "cell_type": "code",
   "execution_count": 2,
   "metadata": {
    "colab": {
     "base_uri": "https://localhost:8080/"
    },
    "executionInfo": {
     "elapsed": 6000,
     "status": "ok",
     "timestamp": 1616005305318,
     "user": {
      "displayName": "D Lu",
      "photoUrl": "",
      "userId": "15889076382085792383"
     },
     "user_tz": 240
    },
    "id": "D0oYO_64tbO8",
    "outputId": "4a77873f-c1c7-4f3d-f858-5a79a006884d"
   },
   "outputs": [],
   "source": [
    "import tensorflow as tf\n",
    "import numpy as np\n",
    "import matplotlib.pyplot as plt\n",
    "import pandas as pd\n",
    "from scipy import interpolate\n",
    "\n",
    "from scipy.interpolate import CubicSpline\n",
    "import math\n",
    "\n",
    "tf.set_random_seed(1234)"
   ]
  },
  {
   "cell_type": "code",
   "execution_count": 9,
   "metadata": {
    "executionInfo": {
     "elapsed": 1359,
     "status": "ok",
     "timestamp": 1616005324033,
     "user": {
      "displayName": "D Lu",
      "photoUrl": "",
      "userId": "15889076382085792383"
     },
     "user_tz": 240
    },
    "id": "7HGZTEGTydg2"
   },
   "outputs": [],
   "source": [
    "\n",
    "def load_data_frank(fileName, pe):\n",
    "\n",
    "    folderName = '../../data/frank/'\n",
    "\n",
    "    phi_file = folderName + fileName + \".csv\"\n",
    "\n",
    "    df_phi = pd.read_csv(phi_file, header = None, names= ['y', 'phi'])\n",
    "    df_phi = df_phi.sort_values(by=['y'])\n",
    "    \n",
    "    df_phi['y'] = df_phi['y']/max(df_phi['y'])\n",
    "    df_phi['y'] = df_phi['y']*2 - 1\n",
    "\n",
    "    y_coord = np.linspace(-0.98, 0.98, 2000)\n",
    "    fit_phi = interpolate.interp1d(df_phi['y'], df_phi['phi'], fill_value= 'extrapolate' )\n",
    "    phi_fitted = fit_phi(y_coord)\n",
    "\n",
    "    # fit u\n",
    "    u = [0]*len(y_coord)\n",
    "    gamma = [0]*len(y_coord)\n",
    "    eta = [0]*len(y_coord)\n",
    "    eta0 = [0]*len(y_coord)\n",
    "    eta_inf = [0]*len(y_coord)\n",
    "\n",
    "    for idx in range(len(y_coord)):\n",
    "        u[idx] = -y_coord[idx]**2 + 1 # use u_max as u0\n",
    "    \n",
    "    for idx in range(1, len(y_coord)-1):\n",
    "        gamma[idx] = (u[idx+1] - u[idx-1])/(y_coord[idx+1] - y_coord[idx-1])\n",
    "        eta0[idx] = (1- phi_fitted[idx]/0.63)**(-1.96)\n",
    "        eta_inf[idx] = (1- phi_fitted[idx]/0.71)**(-1.93)\n",
    "        eta[idx] = eta_inf[idx] + (eta0[idx] - eta_inf[idx])/(1 + 0.14*pe*y_coord[idx])\n",
    "\n",
    "    # create a data frame\n",
    "    d = {'y': y_coord, 'phi': phi_fitted, 'u': u, 'eta': eta, 'eta0':eta0, 'eta_inf': eta_inf,'gamma':gamma}\n",
    "    df = pd.DataFrame(data=d)\n",
    "    df = df.drop([0,len(df)-1])\n",
    "    \n",
    "    return df, df_phi"
   ]
  },
  {
   "cell_type": "code",
   "execution_count": 10,
   "metadata": {
    "executionInfo": {
     "elapsed": 2865,
     "status": "ok",
     "timestamp": 1616005326043,
     "user": {
      "displayName": "D Lu",
      "photoUrl": "",
      "userId": "15889076382085792383"
     },
     "user_tz": 240
    },
    "id": "kHZYYYd6Z5u8"
   },
   "outputs": [],
   "source": [
    "df_4400, orig_4400 = load_data_frank(\"phi34pe4400\", 4400)\n",
    "df_550, orig_550 = load_data_frank(\"phi34pe550\", 550)\n",
    "df_69, orig_69 = load_data_frank(\"phi34pe69\", 69)"
   ]
  },
  {
   "cell_type": "code",
   "execution_count": 11,
   "metadata": {
    "executionInfo": {
     "elapsed": 5228,
     "status": "ok",
     "timestamp": 1616005328675,
     "user": {
      "displayName": "D Lu",
      "photoUrl": "",
      "userId": "15889076382085792383"
     },
     "user_tz": 240
    },
    "id": "YwHTiaIH2ofl"
   },
   "outputs": [],
   "source": [
    "df_22_4400, orig_22_4400 = load_data_frank(\"phi22pe4400\",4400)\n",
    "df_22_550, orig_22_550  = load_data_frank(\"phi22pe550\",550)\n",
    "df_22_69, orig_22_69  = load_data_frank(\"phi22pe69\",69)"
   ]
  },
  {
   "cell_type": "markdown",
   "metadata": {
    "id": "y6ljsUzpyvsZ"
   },
   "source": [
    "# train NN(u), NN(phi), use u, phi as input"
   ]
  },
  {
   "cell_type": "code",
   "execution_count": 19,
   "metadata": {
    "executionInfo": {
     "elapsed": 1144,
     "status": "ok",
     "timestamp": 1616005350048,
     "user": {
      "displayName": "D Lu",
      "photoUrl": "",
      "userId": "15889076382085792383"
     },
     "user_tz": 240
    },
    "id": "ePRm9uafGiwY"
   },
   "outputs": [],
   "source": [
    "class PINN_twoNNs:\n",
    "    # Initialize the class\n",
    "    def __init__(self, r, u, phi, layersU, layersPhi, l1, l2, l3, pe, phi_b):\n",
    "        \n",
    "        self.l1, self.l2, self.l3 = l1, l2, l3\n",
    "        self.r = r\n",
    "        self.rb =  np.array([[-1], [1]])\n",
    "        self.ub =  np.array([[0], [0]])\n",
    "        self.u = u\n",
    "        self.umax = max(u)\n",
    "        self.phi = phi\n",
    "        self.phi_b = phi_b\n",
    "        self.pe = pe\n",
    "        self.layersU = layersU\n",
    "        self.layersPhi = layersPhi\n",
    "\n",
    "        # Initialize NN\n",
    "        self.weightsU, self.biasesU = self.initialize_NN_u(self.layersU) \n",
    "        self.weightsPhi, self.biasesPhi = self.initialize_NN_phi(self.layersPhi)        \n",
    "       \n",
    "        # Initialize parameters\n",
    "        self.lambda_1 = tf.Variable([self.l1], dtype=tf.float32)\n",
    "        self.lambda_2 = tf.Variable([self.l2], dtype=tf.float32)\n",
    "        self.lambda_3 = tf.Variable([self.l3], dtype=tf.float32)        \n",
    "        # tf placeholders and graph\n",
    "        self.sess = tf.Session(config=tf.ConfigProto(allow_soft_placement=True,\n",
    "                                                     log_device_placement=True))\n",
    "        \n",
    "        self.r_tf = tf.placeholder(tf.float32, shape=[None, self.r.shape[1]])\n",
    "\n",
    "        self.phi_tf = tf.placeholder(tf.float32, shape=[None,  self.phi.shape[1]])\n",
    "        self.u_tf = tf.placeholder(tf.float32, shape=[None, self.u.shape[1]])\n",
    "        # print(self.u.shape[1])\n",
    "        self.ub_tf = tf.placeholder(tf.float32, shape=[None, self.ub.shape[1]])  # \n",
    "        self.rb_tf = tf.placeholder(tf.float32, shape=[None, self.rb.shape[1]]) # add boundary values\n",
    "\n",
    "        self.u_pred, self.ur_pred, self.urr_pred = self.net_NS_u(self.r_tf)\n",
    "        self.ub_pred, _, _ = self.net_NS_u(self.rb_tf)\n",
    "\n",
    "        self.phi_pred, self.phir_pred, self.eta, self.eta_r = self.net_NS_phi(self.r_tf)\n",
    "        self.g_pred = self.ur_pred + 2*self.r_tf\n",
    "       \n",
    "        self.Nc = self.lambda_1**2*self.phi_pred*(self.phi_pred*self.urr_pred + self.ur_pred*self.phir_pred)*self.eta\n",
    "        self.Neta = self.lambda_2**2*self.phi_pred**2*self.ur_pred*self.eta_r\n",
    "        self.Nb = self.phir_pred*self.eta/self.pe\n",
    "        self.f_pred = self.Nc + self.Neta + self.Nb\n",
    "\n",
    "        self.Nc_ = self.phi_pred*(self.phi_pred*self.urr_pred + self.ur_pred*self.phir_pred)*self.eta\n",
    "        self.Neta_ = self.phi_pred**2*self.ur_pred*self.eta_r\n",
    "\n",
    "        # loss function\n",
    "        self.loss = tf.reduce_mean(tf.square(self.u_tf - self.u_pred)) + 0.8*tf.reduce_mean(tf.square(self.phi_tf - self.phi_pred)) + \\\n",
    "                    tf.reduce_mean(tf.square(self.g_pred)) + 2*tf.reduce_mean(tf.square(self.f_pred)) +\\\n",
    "                    tf.square(tf.reduce_mean(self.phi_pred) - self.phi_b) #+ tf.reduce_mean(tf.square(self.ub_tf - self.ub_pred)) \n",
    "                    \n",
    "                  \n",
    "        self.optimizer = tf.contrib.opt.ScipyOptimizerInterface(self.loss, \n",
    "                                                                method = 'L-BFGS-B', \n",
    "                                                                options = {'maxiter': 50000,\n",
    "                                                                           'maxfun': 50000,\n",
    "                                                                           'maxcor': 50,\n",
    "                                                                           'maxls': 50,\n",
    "                                                                           'ftol' : 1.0 * np.finfo(float).eps})        \n",
    "        \n",
    "        self.optimizer_Adam = tf.train.AdamOptimizer()\n",
    "        self.train_op_Adam = self.optimizer_Adam.minimize(self.loss)                    \n",
    "        \n",
    "        init = tf.global_variables_initializer()\n",
    "        self.sess.run(init)\n",
    "\n",
    "    def initialize_NN_u(self, layersU):        \n",
    "        weights = []\n",
    "        biases = []\n",
    "     \n",
    "        num_layers = len(layersU) \n",
    "        for l in range(0,num_layers-1):\n",
    "            W = self.xavier_init(size=[layersU[l], layersU[l+1]])\n",
    "            b = tf.Variable(tf.zeros([1,layersU[l+1]], dtype=tf.float32), dtype=tf.float32)\n",
    "            weights.append(W)\n",
    "            biases.append(b)   \n",
    "\n",
    "        return weights, biases\n",
    "\n",
    "    def initialize_NN_phi(self, layersPhi):        \n",
    "        weights = []\n",
    "        biases = []\n",
    "     \n",
    "        num_layers = len(layersPhi) \n",
    "        for l in range(0,num_layers-1):\n",
    "            W = self.xavier_init(size=[layersPhi[l], layersPhi[l+1]])\n",
    "            b = tf.Variable(tf.zeros([1,layersPhi[l+1]], dtype=tf.float32), dtype=tf.float32)\n",
    "            weights.append(W)\n",
    "            biases.append(b)   \n",
    "\n",
    "        return weights, biases\n",
    "        \n",
    "    def xavier_init(self, size):\n",
    "        in_dim = size[0]\n",
    "        out_dim = size[1]        \n",
    "        xavier_stddev = np.sqrt(2/(in_dim + out_dim))\n",
    "        return tf.Variable(tf.random.truncated_normal([in_dim, out_dim], stddev=xavier_stddev), dtype=tf.float32)\n",
    "    \n",
    "    def neural_net_u(self, X, weights, biases):\n",
    "        num_layers = len(weights) + 1\n",
    "\n",
    "        H = X\n",
    "        for l in range(0,num_layers-2):\n",
    "            W = weights[l]\n",
    "            b = biases[l]\n",
    "            H = tf.tanh(tf.add(tf.matmul(H, W), b))\n",
    "        W = weights[-1]\n",
    "        b = biases[-1]\n",
    "        Y = tf.add(tf.matmul(H, W), b)\n",
    "        return Y\n",
    "\n",
    "    def neural_net_phi(self, X, weights, biases):\n",
    "        num_layers = len(weights) + 1\n",
    "\n",
    "        H = X\n",
    "        for l in range(0,num_layers-2):\n",
    "            W = weights[l]\n",
    "            b = biases[l]\n",
    "            H = tf.tanh(tf.add(tf.matmul(H, W), b))\n",
    "        W = weights[-1]\n",
    "        b = biases[-1]\n",
    "        Y = tf.add(tf.matmul(H, W), b)\n",
    "        return Y\n",
    "\n",
    "    def net_NS_u(self,r):\n",
    "     \n",
    "        u = self.neural_net_u(r, self.weightsU, self.biasesU) # \n",
    "\n",
    "        u = u[:,0:1]\n",
    "        # ub = u_ub[:, 1:2]\n",
    "        u_r = tf.gradients(u, r)[0]\n",
    "        u_rr = tf.gradients(u_r, r)[0]\n",
    "        # g = u_rr + 2\n",
    "\n",
    "        return u,u_r,u_rr \n",
    "\n",
    "    def net_NS_phi(self,r):\n",
    "     \n",
    "        phi = self.neural_net_phi(r, self.weightsPhi, self.biasesPhi) # \n",
    "\n",
    "        phi = phi[:,0:1]\n",
    "        \n",
    "        phi_r = tf.gradients(phi, r)[0]\n",
    "\n",
    "        eta0 = (1 - phi/0.63)**(-1.96)\n",
    "        eta_inf = (1- phi/0.71)**(-1.93)\n",
    "        const = 3 * np.pi\n",
    "       \n",
    "        eta = eta_inf + (eta0 - eta_inf )/ (1 + self.lambda_3*self.pe*r/const)\n",
    "        # eta = eta_inf + (eta0 - eta_inf )/ (1 + self.lambda_3*self.pe*r/const)\n",
    "        left = 2.718*(1-phi /0.71)**(-2.93) + (3.11*(1-phi/0.63)**(-2.96) - 2.718*(1-phi /0.71)**(-2.93))/ (1 + self.lambda_3*self.pe*r/const)\n",
    "        right = - self.lambda_3/const*self.pe*(eta0 - eta_inf )/(1+self.lambda_3*self.pe*r/const)**2\n",
    "        eta_r = left * phi_r + right\n",
    "  \n",
    "        return phi, phi_r, eta, eta_r\n",
    "      \n",
    "    def train(self, nIter): \n",
    "\n",
    "        tf_dict = {self.r_tf: self.r,self.rb_tf: self.rb, self.u_tf: self.u, self.ub_tf: self.ub,  self.phi_tf: self.phi}\n",
    "        \n",
    "        Iteration, Loss, L1, L2, L3, ratio = [0,], [float('inf')], [self.l1,], [self.l2,], [self.l3,], [0, ]\n",
    "        for it in range(nIter):\n",
    "            self.sess.run(self.train_op_Adam, tf_dict) # minimize loss\n",
    "\n",
    "            if it % 100 == 0:\n",
    "                loss_value = self.sess.run(self.loss, tf_dict)\n",
    "                lambda_1_value = self.sess.run(self.lambda_1)\n",
    "                lambda_2_value = self.sess.run(self.lambda_2)\n",
    "                lambda_3_value = self.sess.run(self.lambda_3)\n",
    "                Iteration.append(it)\n",
    "                Loss.append(np.log(loss_value))\n",
    "                L1.append((lambda_1_value[0]))\n",
    "                L2.append((lambda_2_value[0]))\n",
    "                L3.append((lambda_3_value[0]))\n",
    "                ratio.append((lambda_1_value[0]/lambda_2_value[0]) )\n",
    "                \n",
    "        print(\"Iterations done.\" )\n",
    "        self.optimizer.minimize(self.sess,\n",
    "                                feed_dict = tf_dict,\n",
    "                                fetches = [self.loss, self.lambda_1, self.lambda_2, self.lambda_3])\n",
    "\n",
    "        return Iteration, Loss, L1, L2, L3, ratio\n",
    "  \n",
    "    def predict(self, r_star):\n",
    "        \n",
    "        tf_dict = {self.r_tf: r_star}\n",
    "        \n",
    "        u_star = self.sess.run(self.u_pred, tf_dict)\n",
    "        phi_star = self.sess.run(self.phi_pred, tf_dict)\n",
    "\n",
    "        return u_star, phi_star\n",
    "\n"
   ]
  },
  {
   "cell_type": "markdown",
   "metadata": {},
   "source": [
    "# Theory"
   ]
  },
  {
   "cell_type": "code",
   "execution_count": 20,
   "metadata": {},
   "outputs": [],
   "source": [
    "import math\n",
    "from scipy.optimize import root_scalar as nsolve\n",
    "from scipy.integrate import *\n",
    "\n",
    "class solve_ode:\n",
    "    def __init__(self, phi_b, pe, l1, l2, l3, start, end):\n",
    "        self.y_final = []\n",
    "        self.phi_final = []  \n",
    "        self.phi_b = phi_b\n",
    "        self.pe = pe\n",
    "        self.lambda1 = l1\n",
    "        self.lambda2 = l2\n",
    "        self.lambda3 = l3\n",
    "\n",
    "    def solve_left(self):\n",
    "        mytol = 1e-8\n",
    "        sol0 = nsolve(self.func_left, bracket=[0.1, 0.6], method='brentq', xtol=mytol, rtol=mytol) \n",
    "        phi_0 = sol0.root\n",
    "        return self.y_final, self.phi_final\n",
    "\n",
    "    def solve_right(self):\n",
    "        mytol = 1e-6\n",
    "        sol0 = nsolve(self.func_right, bracket=[0, 1], method='brentq', xtol=mytol, rtol=mytol) \n",
    "        phi_0 = sol0.root\n",
    "        return self.y_final, self.phi_final\n",
    "\n",
    "    def ode_fun(self, y, phi):\n",
    "\n",
    "        eta_0 = (1-phi/0.63)**(-1.96)\n",
    "        eta_inf = (1-phi/0.71)**(-1.93)\n",
    "        eps = 0\n",
    "\n",
    "        eta = eta_inf + (eta_0 - eta_inf )/(1+ self.lambda3*(y+eps)*self.pe/3/np.pi)\n",
    "        f = 2.718/(1-phi/0.71)**(2.93) + (3.11*(1-phi/0.63)**(-2.96) - 2.718*(1-phi/0.71)**(-2.93))/(1+self.lambda3*(y+eps)*self.pe/3/np.pi) \n",
    "\n",
    "        g = -0.14*self.pe*(eta_0 - eta_inf)/((1+self.lambda3*(y+eps)*self.pe/3/np.pi)**2)\n",
    "        numerator = 2*self.lambda1*phi**2*eta + 2*y*self.lambda2*phi**2*g \n",
    "        denom = (1/self.pe-2*self.lambda1*y*phi)*eta-2*self.lambda2*y*phi**2*f  \n",
    "\n",
    "        return numerator/denom\n",
    "\n",
    "    # define a function that returns \"phi_solve - phi_b\" given m  \n",
    "    def func_left(self, phi0):\n",
    "        y_dist = np.linspace(end, start, 500)\n",
    "        sol = solve_ivp(self.ode_fun, [end, start], [phi0], t_eval = y_dist) \n",
    "        \n",
    "        self.y_final = sol.t\n",
    "        self.phi_final = sol.y[0]\n",
    "        I = simps(sol.y, sol.t)\n",
    "        self.I = I \n",
    "        return I + self.phi_b*(end - start)\n",
    "\n",
    "    def func_right(self, phi0):\n",
    "        y_dist = np.linspace(-end, -start, 500)\n",
    "        sol = solve_ivp(self.ode_fun, [-end, -start], [phi0], t_eval = y_dist) \n",
    "        \n",
    "        self.y_final = sol.t\n",
    "        self.phi_final = sol.y[0]\n",
    "        I = simps(sol.y, sol.t)\n",
    "        self.I = I \n",
    "        return I - self.phi_b*(end - start)\n"
   ]
  },
  {
   "cell_type": "markdown",
   "metadata": {},
   "source": [
    "# Plot results"
   ]
  },
  {
   "cell_type": "code",
   "execution_count": 21,
   "metadata": {
    "colab": {
     "base_uri": "https://localhost:8080/"
    },
    "executionInfo": {
     "elapsed": 44737,
     "status": "ok",
     "timestamp": 1616005393952,
     "user": {
      "displayName": "D Lu",
      "photoUrl": "",
      "userId": "15889076382085792383"
     },
     "user_tz": 240
    },
    "id": "Jmlgehmyyho9",
    "outputId": "f2ca9bbd-6a8f-4fca-e9fc-5146ff42adb1"
   },
   "outputs": [],
   "source": [
    "def calcPINN(phi_b, pe, df, orig_df):\n",
    "\n",
    "    N_train = 150 \n",
    "\n",
    "    layersU = [1, 30, 30, 30, 30, 30,  1]\n",
    "    layersPhi = [1, 30, 30, 30, 30, 30,  1]\n",
    "    # Load Data\n",
    "    N = len(df)\n",
    "\n",
    "    U_star = df['u'].values  \n",
    "    U_star = U_star.reshape(N,1)\n",
    "    Phi_star = df['phi'].values \n",
    "    Phi_star = Phi_star.reshape(N,1)\n",
    "    eta_star = df['eta'].values\n",
    "    eta_star = eta_star.reshape(N,1)\n",
    "    y = df['y'].values \n",
    "    R_star = y.reshape(N,1)\n",
    "\n",
    "    # Training Data    \n",
    "    idx = np.random.choice(N, N_train, replace=False)\n",
    "    r_train = R_star[idx]\n",
    "    u_train = U_star[idx]\n",
    "    phi_train = Phi_star[idx]\n",
    "    eta_train = eta_star[idx]\n",
    "\n",
    "    # Training: r, u, phi, Pe, layers\n",
    "    l1, l2, l3 = 0.3, 1, 1.5    \n",
    "    model = PINN_twoNNs(r_train, u_train, phi_train, layersU, layersPhi, l1, l2, l3, pe, phi_b)    \n",
    "    Iteration, Loss, L1, L2, ratio, L3 = model.train(10000)\n",
    "    r_star = R_star \n",
    "    u_star = U_star\n",
    "    phi_star = Phi_star\n",
    "    # Prediction\n",
    "    u_pred, phi_pred= model.predict(r_star)\n",
    "    lambda_1_value = model.sess.run(model.lambda_1)\n",
    "    lambda_2_value = model.sess.run(model.lambda_2)\n",
    "    lambda_3_value = model.sess.run(model.lambda_3)\n",
    "\n",
    "    model.sess.close()\n",
    "\n",
    "    return phi_pred, lambda_1_value, lambda_2_value, lambda_3_value\n"
   ]
  },
  {
   "cell_type": "markdown",
   "metadata": {},
   "source": [
    "## phi_b = 0.34"
   ]
  },
  {
   "cell_type": "code",
   "execution_count": 22,
   "metadata": {},
   "outputs": [
    {
     "name": "stdout",
     "output_type": "stream",
     "text": [
      "Device mapping:\n",
      "/job:localhost/replica:0/task:0/device:XLA_CPU:0 -> device: XLA_CPU device\n",
      "\n",
      "Iterations done.\n",
      "INFO:tensorflow:Optimization terminated with:\n",
      "  Message: CONVERGENCE: NORM_OF_PROJECTED_GRADIENT_<=_PGTOL\n",
      "  Objective function value: 0.000003\n",
      "  Number of iterations: 5\n",
      "  Number of functions evaluations: 7\n"
     ]
    },
    {
     "name": "stderr",
     "output_type": "stream",
     "text": [
      "/Library/Frameworks/Python.framework/Versions/3.7/lib/python3.7/site-packages/ipykernel_launcher.py:29: RuntimeWarning: invalid value encountered in power\n",
      "/Library/Frameworks/Python.framework/Versions/3.7/lib/python3.7/site-packages/ipykernel_launcher.py:30: RuntimeWarning: invalid value encountered in power\n",
      "/Library/Frameworks/Python.framework/Versions/3.7/lib/python3.7/site-packages/ipykernel_launcher.py:34: RuntimeWarning: invalid value encountered in power\n"
     ]
    }
   ],
   "source": [
    "phi_b = 0.34\n",
    "pe = 4400\n",
    "df = df_4400\n",
    "orig_df = orig_4400\n",
    "phi_pred_4400, lambda_1_value, lambda_2_value, lambda_3_value = calcPINN(phi_b, pe, df, orig_df)\n",
    "\n",
    "# l1, l2, l3 = 1,lambda_2_value[0], lambda_3_value[0]\n",
    "# # l1, l2, l3 = lambda_1_value[0],lambda_2_value[0], lambda_3_value[0]\n",
    "\n",
    "# print(l1, l2, l3)\n",
    "l1, l2, l3 = 2.74*10**(-4), 8.28*10**(-4), 1.77\n",
    "start, end = 0.01, 1\n",
    "y_left, phi_left_4400 = solve_ode(phi_b, pe, l1, l2, l3, start, end).solve_left()"
   ]
  },
  {
   "cell_type": "code",
   "execution_count": 23,
   "metadata": {},
   "outputs": [
    {
     "name": "stdout",
     "output_type": "stream",
     "text": [
      "Device mapping:\n",
      "/job:localhost/replica:0/task:0/device:XLA_CPU:0 -> device: XLA_CPU device\n",
      "\n",
      "Iterations done.\n",
      "INFO:tensorflow:Optimization terminated with:\n",
      "  Message: CONVERGENCE: NORM_OF_PROJECTED_GRADIENT_<=_PGTOL\n",
      "  Objective function value: 0.000023\n",
      "  Number of iterations: 82\n",
      "  Number of functions evaluations: 91\n"
     ]
    }
   ],
   "source": [
    "phi_b = 0.34\n",
    "pe = 550\n",
    "df = df_550\n",
    "orig_df = orig_550\n",
    "phi_pred_550, lambda_1_value, lambda_2_value, lambda_3_value = calcPINN(phi_b, pe, df, orig_df)\n",
    "# l1, l2, l3 = lambda_1_value[0],lambda_2_value[0], lambda_3_value[0]\n",
    "# print(l1, l2, l3)\n",
    "l1, l2, l3 = 7.84*10**(-5), 6.32*10**(-4), 1.46\n",
    "start, end = 0.01, 1\n",
    "y_left, phi_left_550 = solve_ode(phi_b, pe, l1, l2,l3, start, end).solve_left()"
   ]
  },
  {
   "cell_type": "code",
   "execution_count": 24,
   "metadata": {},
   "outputs": [
    {
     "name": "stdout",
     "output_type": "stream",
     "text": [
      "Device mapping:\n",
      "/job:localhost/replica:0/task:0/device:XLA_CPU:0 -> device: XLA_CPU device\n",
      "\n",
      "Iterations done.\n",
      "INFO:tensorflow:Optimization terminated with:\n",
      "  Message: CONVERGENCE: NORM_OF_PROJECTED_GRADIENT_<=_PGTOL\n",
      "  Objective function value: 0.000007\n",
      "  Number of iterations: 7\n",
      "  Number of functions evaluations: 10\n"
     ]
    }
   ],
   "source": [
    "phi_b = 0.34\n",
    "pe = 69\n",
    "df = df_69\n",
    "orig_df = orig_69\n",
    "phi_pred_69, lambda_1_value, lambda_2_value, lambda_3_value = calcPINN(phi_b, pe, df, orig_df)\n",
    "# l1, l2, l3 = lambda_1_value[0],lambda_2_value[0], lambda_3_value[0]\n",
    "# print(l1, l2, l3)\n",
    "l1, l2, l3 = 2.47*10**(-7), 3.58*10**(-7), 1.51\n",
    "start, end = 0.01, 1\n",
    "y_left, phi_left_69 = solve_ode(phi_b, pe, l1, l2,l3, start, end).solve_left()"
   ]
  },
  {
   "cell_type": "code",
   "execution_count": 25,
   "metadata": {},
   "outputs": [],
   "source": [
    "from matplotlib import rc\n",
    "\n",
    "font = {'family' : 'sans-serif',\n",
    "        'sans-serif': ['Helvetica'],#['Helvetica'],\n",
    "        'weight' : 'normal',\n",
    "        'size': 20}\n",
    "\n",
    "rc('font', **font) \n",
    "rc('text', usetex=True)"
   ]
  },
  {
   "cell_type": "code",
   "execution_count": 26,
   "metadata": {},
   "outputs": [
    {
     "name": "stderr",
     "output_type": "stream",
     "text": [
      "/Library/Frameworks/Python.framework/Versions/3.7/lib/python3.7/site-packages/matplotlib/font_manager.py:1241: UserWarning: findfont: Font family ['sans-serif'] not found. Falling back to DejaVu Sans.\n",
      "  (prop.get_family(), self.defaultFamily[fontext]))\n",
      "/Library/Frameworks/Python.framework/Versions/3.7/lib/python3.7/site-packages/matplotlib/font_manager.py:1241: UserWarning: findfont: Font family ['sans-serif'] not found. Falling back to DejaVu Sans.\n",
      "  (prop.get_family(), self.defaultFamily[fontext]))\n",
      "/Library/Frameworks/Python.framework/Versions/3.7/lib/python3.7/site-packages/matplotlib/font_manager.py:1241: UserWarning: findfont: Font family ['sans-serif'] not found. Falling back to DejaVu Sans.\n",
      "  (prop.get_family(), self.defaultFamily[fontext]))\n",
      "/Library/Frameworks/Python.framework/Versions/3.7/lib/python3.7/site-packages/matplotlib/font_manager.py:1241: UserWarning: findfont: Font family ['sans-serif'] not found. Falling back to DejaVu Sans.\n",
      "  (prop.get_family(), self.defaultFamily[fontext]))\n"
     ]
    },
    {
     "data": {
      "image/png": "[encoded data removed]",
      "text/plain": [
       "<Figure size 1152x360 with 3 Axes>"
      ]
     },
     "metadata": {
      "needs_background": "light"
     },
     "output_type": "display_data"
    }
   ],
   "source": [
    "labelsize = 26\n",
    "ticksize = 24\n",
    "legendsize = 16\n",
    "# f2, (a1, a2, a3) = plt.subplots(1, 3, sharex=True, sharey=False, figsize=(12,4))\n",
    "\n",
    "figwidth = 16\n",
    "figheight = 5\n",
    "fig = plt.figure(figsize=(figwidth,figheight),constrained_layout=True)\n",
    "widths = [figwidth/3, figwidth/3, figwidth/3]\n",
    "heights = [figheight]\n",
    "spec = fig.add_gridspec(ncols=3, nrows=1, width_ratios=widths, height_ratios=heights)\n",
    "axes = []\n",
    "for col in range(3):\n",
    "    axes.append(fig.add_subplot(spec[0, col]))\n",
    "\n",
    "axes[0].plot(orig_4400['y'][::2], orig_4400['phi'][::2],'o', label = \"Frank et al.\") # unfilled circle\n",
    "axes[0].plot(y_left, phi_left_4400, '--',color = 'k', label = \"Theory\")\n",
    "axes[0].plot(-y_left, phi_left_4400, '--',color = 'k')\n",
    "axes[0].plot(df_4400['y'][::2], phi_pred_4400[::2], color = 'r',label = \"PINN\" ) \n",
    "\n",
    "axes[1].plot(orig_550['y'][::3], orig_550['phi'][::3],'o', label = \"Frank et al.\") # unfilled circle\n",
    "axes[1].plot(y_left, phi_left_550, '--',color = 'k', label = \"Theory\")\n",
    "axes[1].plot(-y_left, phi_left_550, '--',color = 'k')\n",
    "axes[1].plot(df_550['y'][::2], phi_pred_550[::2], color = 'r',label = \"PINN\" ) \n",
    "\n",
    "axes[2].plot(orig_69['y'][::3], orig_69['phi'][::3],'o', label = \"Frank et al.\") # unfilled circle\n",
    "axes[2].plot(y_left, phi_left_69, '--',color = 'k', label = \"Theory\")\n",
    "axes[2].plot(-y_left, phi_left_69, '--',color = 'k')     \n",
    "axes[2].plot(df_69['y'][::2], phi_pred_69[::2], color = 'r',label = \"PINN\" ) \n",
    "\n",
    "axes[0].set_xlabel(r\"$y^*$\", fontsize=labelsize)\n",
    "axes[0].set_ylabel(r\"$\\phi$\", fontsize=labelsize)\n",
    "axes[0].tick_params(axis='both', labelsize=ticksize )      \n",
    "  \n",
    "axes[1].set_xlabel(r\"$y^*$\", fontsize=labelsize)\n",
    "axes[1].set_ylabel(r\"$\\phi$\", fontsize=labelsize)\n",
    "axes[1].tick_params(axis='both', labelsize=ticksize )\n",
    "\n",
    "axes[2].set_xlabel(r\"$y^*$\", fontsize=labelsize)\n",
    "axes[2].set_ylabel(r\"$\\phi$\", fontsize=labelsize)\n",
    "axes[2].tick_params(axis='both', labelsize=ticksize )\n",
    "\n",
    "axes[0].set_ylim([0.2,0.6])\n",
    "axes[1].set_ylim([0.2,0.6])\n",
    "axes[2].set_ylim([0.2,0.6])\n",
    "\n",
    "\n",
    "import string\n",
    "for n, ax in enumerate(axes):\n",
    "    ax.text(0.46, -0.3, \"(\" + string.ascii_lowercase[n]+\")\", transform=ax.transAxes, \n",
    "                size=20, weight='normal')\n",
    "    ax.legend(loc = 0,fontsize = legendsize)  \n"
   ]
  },
  {
   "cell_type": "markdown",
   "metadata": {},
   "source": [
    "## phi_b = 0.22"
   ]
  },
  {
   "cell_type": "code",
   "execution_count": 27,
   "metadata": {
    "scrolled": true
   },
   "outputs": [
    {
     "name": "stdout",
     "output_type": "stream",
     "text": [
      "Device mapping:\n",
      "/job:localhost/replica:0/task:0/device:XLA_CPU:0 -> device: XLA_CPU device\n",
      "\n",
      "Iterations done.\n",
      "INFO:tensorflow:Optimization terminated with:\n",
      "  Message: CONVERGENCE: NORM_OF_PROJECTED_GRADIENT_<=_PGTOL\n",
      "  Objective function value: 0.000001\n",
      "  Number of iterations: 8\n",
      "  Number of functions evaluations: 12\n"
     ]
    },
    {
     "name": "stderr",
     "output_type": "stream",
     "text": [
      "/Library/Frameworks/Python.framework/Versions/3.7/lib/python3.7/site-packages/ipykernel_launcher.py:29: RuntimeWarning: invalid value encountered in power\n",
      "/Library/Frameworks/Python.framework/Versions/3.7/lib/python3.7/site-packages/ipykernel_launcher.py:30: RuntimeWarning: invalid value encountered in power\n",
      "/Library/Frameworks/Python.framework/Versions/3.7/lib/python3.7/site-packages/ipykernel_launcher.py:34: RuntimeWarning: invalid value encountered in power\n"
     ]
    }
   ],
   "source": [
    "phi_b = 0.22\n",
    "pe = 4400\n",
    "df = df_22_4400\n",
    "orig_df = orig_22_4400\n",
    "phi_pred_22_4400, lambda_1_value, lambda_2_value, lambda_3_value = calcPINN(phi_b, pe, df, orig_df)\n",
    "\n",
    "l1, l2, l3 = 4.17*10**(-4), 1.21*10**(-2), 1.71\n",
    "start, end = 0.001, 1\n",
    "y_left, phi_left_22_4400 = solve_ode(phi_b, pe, l1, l2, l3, start, end).solve_left()"
   ]
  },
  {
   "cell_type": "code",
   "execution_count": 28,
   "metadata": {},
   "outputs": [
    {
     "name": "stdout",
     "output_type": "stream",
     "text": [
      "Device mapping:\n",
      "/job:localhost/replica:0/task:0/device:XLA_CPU:0 -> device: XLA_CPU device\n",
      "\n",
      "Iterations done.\n",
      "INFO:tensorflow:Optimization terminated with:\n",
      "  Message: CONVERGENCE: NORM_OF_PROJECTED_GRADIENT_<=_PGTOL\n",
      "  Objective function value: 0.000001\n",
      "  Number of iterations: 7\n",
      "  Number of functions evaluations: 10\n"
     ]
    },
    {
     "name": "stderr",
     "output_type": "stream",
     "text": [
      "/Library/Frameworks/Python.framework/Versions/3.7/lib/python3.7/site-packages/ipykernel_launcher.py:29: RuntimeWarning: invalid value encountered in power\n",
      "/Library/Frameworks/Python.framework/Versions/3.7/lib/python3.7/site-packages/ipykernel_launcher.py:34: RuntimeWarning: invalid value encountered in power\n"
     ]
    }
   ],
   "source": [
    "phi_b = 0.22\n",
    "pe = 550\n",
    "df = df_22_550\n",
    "orig_df = orig_22_550\n",
    "phi_pred_22_550, lambda_1_value, lambda_2_value, lambda_3_value = calcPINN(phi_b, pe, df, orig_df)\n",
    "l1, l2, l3 = 9.98*10**(-5), 1.61*10**(-3), 1.47\n",
    "start, end = 0.001, 1\n",
    "y_left, phi_left_22_550 = solve_ode(phi_b, pe, l1, l2,l3, start, end).solve_left()"
   ]
  },
  {
   "cell_type": "code",
   "execution_count": 30,
   "metadata": {},
   "outputs": [
    {
     "name": "stdout",
     "output_type": "stream",
     "text": [
      "Device mapping:\n",
      "/job:localhost/replica:0/task:0/device:XLA_CPU:0 -> device: XLA_CPU device\n",
      "\n",
      "Iterations done.\n",
      "INFO:tensorflow:Optimization terminated with:\n",
      "  Message: CONVERGENCE: NORM_OF_PROJECTED_GRADIENT_<=_PGTOL\n",
      "  Objective function value: 0.000007\n",
      "  Number of iterations: 8\n",
      "  Number of functions evaluations: 10\n"
     ]
    }
   ],
   "source": [
    "phi_b = 0.22\n",
    "pe = 69\n",
    "df = df_22_69\n",
    "orig_df = orig_22_69\n",
    "phi_pred_22_69, lambda_1_value, lambda_2_value, lambda_3_value = calcPINN(phi_b, pe, df, orig_df)\n",
    "l1, l2, l3 = 5.73*10**(-4), 5.51*10**(-7), 1.51\n",
    "start, end = 0.001, 1\n",
    "y_left, phi_left_22_69 = solve_ode(phi_b, pe, l1, l2,l3, start, end).solve_left()"
   ]
  },
  {
   "cell_type": "code",
   "execution_count": 31,
   "metadata": {},
   "outputs": [
    {
     "data": {
      "image/png": "[encoded data removed]",
      "text/plain": [
       "<Figure size 1152x360 with 3 Axes>"
      ]
     },
     "metadata": {
      "needs_background": "light"
     },
     "output_type": "display_data"
    }
   ],
   "source": [
    "labelsize = 26\n",
    "ticksize = 24\n",
    "legendsize = 16\n",
    "figwidth = 16\n",
    "figheight = 5\n",
    "fig = plt.figure(figsize=(figwidth,figheight),constrained_layout=True)\n",
    "widths = [figwidth/3, figwidth/3, figwidth/3]\n",
    "heights = [figheight]\n",
    "spec = fig.add_gridspec(ncols=3, nrows=1, width_ratios=widths, height_ratios=heights)\n",
    "axes = []\n",
    "for col in range(3):\n",
    "    axes.append(fig.add_subplot(spec[0, col]))\n",
    "\n",
    "axes[0].plot(orig_22_4400['y'][::2], orig_22_4400['phi'][::2],'o', label = \"Frank et al.\") # unfilled circle\n",
    "axes[0].plot(y_left, phi_left_22_4400, '--',color = 'k', label = \"Theory\")\n",
    "axes[0].plot(-y_left, phi_left_22_4400, '--',color = 'k')\n",
    "axes[0].plot(df_22_4400['y'][::2], phi_pred_22_4400[::2], color = 'r',label = \"PINN\" ) \n",
    "\n",
    "axes[1].plot(orig_22_550['y'][::3], orig_22_550['phi'][::3],'o', label = \"Frank et al.\") # unfilled circle\n",
    "axes[1].plot(y_left, phi_left_22_550, '--',color = 'k', label = \"Theory\")\n",
    "axes[1].plot(-y_left, phi_left_22_550, '--',color = 'k')\n",
    "axes[1].plot(df_22_550['y'][::2], phi_pred_22_550[::2], color = 'r',label = \"PINN\" ) \n",
    "\n",
    "axes[2].plot(orig_22_69['y'][::3], orig_22_69['phi'][::3],'o', label = \"Frank et al.\") # unfilled circle\n",
    "axes[2].plot(y_left, phi_left_22_69, '--',color = 'k', label = \"Theory\")\n",
    "axes[2].plot(-y_left, phi_left_22_69, '--',color = 'k')     \n",
    "axes[2].plot(df_22_69['y'][::2], phi_pred_22_69[::2], color = 'r',label = \"PINN\" ) \n",
    "\n",
    "axes[0].set_xlabel(r\"$y^*$\", fontsize=labelsize)\n",
    "axes[0].set_ylabel(r\"$\\phi$\", fontsize=labelsize)\n",
    "axes[0].tick_params(axis='both', labelsize=ticksize )      \n",
    "  \n",
    "axes[1].set_xlabel(r\"$y^*$\", fontsize=labelsize)\n",
    "axes[1].set_ylabel(r\"$\\phi$\", fontsize=labelsize)\n",
    "axes[1].tick_params(axis='both', labelsize=ticksize )\n",
    "\n",
    "axes[2].set_xlabel(r\"$y^*$\", fontsize=labelsize)\n",
    "axes[2].set_ylabel(r\"$\\phi$\", fontsize=labelsize)\n",
    "axes[2].tick_params(axis='both', labelsize=ticksize )\n",
    "\n",
    "axes[0].set_ylim([0.1,0.6])\n",
    "axes[1].set_ylim([0.1, 0.6])\n",
    "axes[2].set_ylim([0.1,0.6])\n",
    "\n",
    "axes[0].legend(fontsize=legendsize)\n",
    "axes[1].legend( fontsize=legendsize)\n",
    "axes[2].legend( fontsize=legendsize)\n",
    "\n",
    "import string\n",
    "for n, ax in enumerate(axes):\n",
    "    ax.text(0.46, -0.3, \"(\" + string.ascii_lowercase[n]+\")\", transform=ax.transAxes, \n",
    "                size=20, weight='normal')\n"
   ]
  },
  {
   "cell_type": "markdown",
   "metadata": {},
   "source": [
    "# Velocity profile"
   ]
  },
  {
   "cell_type": "code",
   "execution_count": 33,
   "metadata": {},
   "outputs": [
    {
     "data": {
      "text/plain": [
       "(0, 1500)"
      ]
     },
     "execution_count": 33,
     "metadata": {},
     "output_type": "execute_result"
    },
    {
     "name": "stderr",
     "output_type": "stream",
     "text": [
      "/Library/Frameworks/Python.framework/Versions/3.7/lib/python3.7/site-packages/matplotlib/font_manager.py:1241: UserWarning: findfont: Font family ['sans-serif'] not found. Falling back to DejaVu Sans.\n",
      "  (prop.get_family(), self.defaultFamily[fontext]))\n"
     ]
    },
    {
     "data": {
      "image/png": "[encoded data removed]",
      "text/plain": [
       "<Figure size 432x360 with 1 Axes>"
      ]
     },
     "metadata": {
      "needs_background": "light"
     },
     "output_type": "display_data"
    }
   ],
   "source": [
    "import pandas as pd\n",
    "import matplotlib.pyplot as plt\n",
    "folderName = '../../data/frank/'\n",
    "fileName = \"u_frank\"\n",
    "file = folderName + fileName + \".csv\"\n",
    "df_u = pd.read_csv(file, header = None, names= ['y', 'u'])\n",
    "df_u = df_u.sort_values(by=['y'])\n",
    "df_u['y']=df_u['y'] - 25\n",
    "y_norm = df_u['y']/25\n",
    "y_coord = np.linspace(-25, 25, 100)\n",
    "para_u = (-(y_coord/25)**2 + 1)*max(df_u['u'])\n",
    "\n",
    "figwidth = 6\n",
    "figheight = 5\n",
    "labelsize = 22\n",
    "legendsize = 16\n",
    "ticksize = 18\n",
    "fig = plt.figure(figsize=(figwidth,figheight),constrained_layout=True)\n",
    "axes = []\n",
    "widths = [figwidth]\n",
    "heights = [figheight]\n",
    "spec = fig.add_gridspec(ncols=1, nrows=1, width_ratios=widths,\n",
    "                          height_ratios=heights)\n",
    "\n",
    "for col in range(1):\n",
    "    axes.append(fig.add_subplot(spec[0, col]))\n",
    "\n",
    "axes[0].plot(df_u['y'], df_u['u'], 'o', label = \"Frank et al.\")\n",
    "axes[0].plot(y_coord, para_u, '--', color = 'k',label = \"Parabolic profile\")\n",
    "axes[0].set_xlabel(r\"$y~(\\mu {\\rm m})$\", fontsize=labelsize)\n",
    "axes[0].set_ylabel(r\"$u~(\\mu {\\rm m~s^{-1}}$)\" ,fontsize=labelsize)\n",
    "axes[0].legend( fontsize=legendsize)\n",
    "axes[0].tick_params(axis='both', labelsize=ticksize )   \n",
    "axes[0].set_xlim([-25,25])\n",
    "axes[0].set_ylim([0,1500])\n"
   ]
  }
 ],
 "metadata": {
  "colab": {
   "authorship_tag": "ABX9TyOaSNdsKhZuu1q4Xz9UTNiS",
   "collapsed_sections": [],
   "name": "PINN_Frank_fullChannel.ipynb",
   "provenance": []
  },
  "kernelspec": {
   "display_name": "Python 3",
   "language": "python",
   "name": "python3"
  },
  "language_info": {
   "codemirror_mode": {
    "name": "ipython",
    "version": 3
   },
   "file_extension": ".py",
   "mimetype": "text/x-python",
   "name": "python",
   "nbconvert_exporter": "python",
   "pygments_lexer": "ipython3",
   "version": "3.7.2"
  }
 },
 "nbformat": 4,
 "nbformat_minor": 1
}
