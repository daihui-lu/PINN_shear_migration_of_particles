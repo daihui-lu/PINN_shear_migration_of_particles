{
 "cells": [
  {
   "cell_type": "code",
   "execution_count": 1,
   "metadata": {
    "colab": {
     "base_uri": "https://localhost:8080/"
    },
    "id": "oWLdP-Bt6MTa",
    "outputId": "f10e60a8-f5a8-4e21-ad83-c343d6e3a637"
   },
   "outputs": [],
   "source": [
    "import tensorflow as tf\n",
    "import numpy as np\n",
    "import matplotlib.pyplot as plt\n",
    "import pandas as pd\n",
    "\n",
    "from scipy.interpolate import CubicSpline\n",
    "import math\n",
    "tf.set_random_seed(12345)"
   ]
  },
  {
   "cell_type": "code",
   "execution_count": 2,
   "metadata": {},
   "outputs": [
    {
     "data": {
      "text/plain": [
       "'1.15.0'"
      ]
     },
     "execution_count": 2,
     "metadata": {},
     "output_type": "execute_result"
    }
   ],
   "source": [
    "tf.__version__"
   ]
  },
  {
   "cell_type": "markdown",
   "metadata": {},
   "source": [
    "# Load data from Koh et al."
   ]
  },
  {
   "cell_type": "code",
   "execution_count": 5,
   "metadata": {
    "colab": {
     "base_uri": "https://localhost:8080/",
     "height": 212
    },
    "id": "chleAzjo9m2R",
    "outputId": "f33ed455-8b6f-4be8-d09e-b8c55d19b30e"
   },
   "outputs": [],
   "source": [
    "from scipy import interpolate\n",
    "def load_exp_data(fileName):\n",
    "    \n",
    "    folderName = '../../data/koh/'\n",
    "    phi_file = folderName  + fileName + \"_phi_exp.csv\"\n",
    "    u_file = folderName  + fileName + \"_u_exp.csv\"\n",
    "    df_phi = pd.read_csv(phi_file, header = None, names= ['y', 'phi'])\n",
    "    df_phi = df_phi.sort_values(by=['y'])\n",
    "    df_u = pd.read_csv(u_file, header = None, names= ['y', 'u'])\n",
    "    df_u = df_u.sort_values(by=['y'])\n",
    "    df_u = df_u.drop([17])\n",
    "\n",
    "    L  = 1000\n",
    "    y_coord = np.linspace(-1,1, L)\n",
    "    \n",
    "    # fit phi values\n",
    "    fit_phi = interpolate.interp1d(df_phi['y'], df_phi['phi'], fill_value= 'extrapolate' )\n",
    "    phi_fitted = fit_phi(y_coord)\n",
    "\n",
    "    # fit u\n",
    "    f = interpolate.interp1d(df_u['y'], df_u['u'], fill_value= 'extrapolate' )\n",
    "    u_fitted = f(y_coord)\n",
    "\n",
    "    u0 = u_fitted[L//2]\n",
    "    u1 = u_fitted[-1]\n",
    "    phim = 0.68\n",
    "\n",
    "    eta = (1- df_phi['phi']/phim)**(-1.82)\n",
    "    f = interpolate.interp1d(df_phi['y'], eta, fill_value= 'extrapolate' )\n",
    "    eta_fitted = 0.5*(f(y_coord)+ f(-y_coord))\n",
    "\n",
    "    G = (u1 - u0)/np.trapz(y_coord[L//2:]/eta_fitted[L//2:], y_coord[L//2:])\n",
    "    print(\"G is: \", G)\n",
    "    \n",
    "    # create a data frame\n",
    "    d = {'y': y_coord, 'phi': phi_fitted, 'u': u_fitted}\n",
    "    df = pd.DataFrame(data=d)\n",
    "    \n",
    "    return df, df_u, df_phi, G"
   ]
  },
  {
   "cell_type": "code",
   "execution_count": 8,
   "metadata": {},
   "outputs": [
    {
     "name": "stdout",
     "output_type": "stream",
     "text": [
      "G is:  -1.0472881733158999\n"
     ]
    }
   ],
   "source": [
    "figures = [\"koh_fig11\", \"koh_fig15\", \"koh_fig19\"]\n",
    "df, df_u_orig, df_phi,g = load_exp_data(\"koh_fig19\")"
   ]
  },
  {
   "cell_type": "code",
   "execution_count": 9,
   "metadata": {},
   "outputs": [
    {
     "name": "stdout",
     "output_type": "stream",
     "text": [
      "G is:  -1.2196653152147239\n"
     ]
    }
   ],
   "source": [
    "df, df_u_orig, df_phi,g = load_exp_data(\"koh_fig15\")"
   ]
  },
  {
   "cell_type": "code",
   "execution_count": 10,
   "metadata": {},
   "outputs": [
    {
     "name": "stdout",
     "output_type": "stream",
     "text": [
      "G is:  -1.5063024209117382\n"
     ]
    }
   ],
   "source": [
    "df, df_u_orig, df_phi,g = load_exp_data(\"koh_fig11\")"
   ]
  },
  {
   "cell_type": "markdown",
   "metadata": {
    "id": "ytlKHl-Vhi0n"
   },
   "source": [
    "# Theory"
   ]
  },
  {
   "cell_type": "code",
   "execution_count": 11,
   "metadata": {
    "id": "tSNcHbLhfBYT"
   },
   "outputs": [],
   "source": [
    "import math\n",
    "from scipy.optimize import root_scalar as nsolve\n",
    "from scipy.integrate import *\n",
    "\n",
    "class solve_ode:\n",
    "    def __init__(self, phi_b):\n",
    "        self.y_final = []\n",
    "        self.phi_final = []  \n",
    "        self.phi_b = phi_b\n",
    "\n",
    "    def solve_left(self):\n",
    "        mytol = 1e-6\n",
    "        sol0 = nsolve(self.func_left, bracket=[0, 1], method='brentq', xtol=mytol, rtol=mytol) \n",
    "        phi_0 = sol0.root\n",
    "        return self.y_final, self.phi_final\n",
    "\n",
    "\n",
    "    def ode_fun(self, y, phi):\n",
    "        \n",
    "        numerator = phi\n",
    "        denom = (-1.38*phi/(1 - phi/0.68) - 1)*y\n",
    "\n",
    "        return numerator/denom\n",
    "\n",
    "    # define a function that returns \"phi_solve - phi_b\" given m  \n",
    "    def func_left(self, phi0):\n",
    "        y_dist = np.linspace(1, 0, 500)\n",
    "        sol = solve_ivp(self.ode_fun, [1,0], [phi0], t_eval = y_dist) \n",
    "        \n",
    "        self.y_final = sol.t\n",
    "        self.phi_final = sol.y[0]\n",
    "        I = simps(sol.y, sol.t)\n",
    "        self.I = I \n",
    "        return I + self.phi_b"
   ]
  },
  {
   "cell_type": "markdown",
   "metadata": {
    "id": "lA28emzAhqA8"
   },
   "source": [
    "# PINN"
   ]
  },
  {
   "cell_type": "code",
   "execution_count": 12,
   "metadata": {
    "id": "HhlhRiLTSN55"
   },
   "outputs": [],
   "source": [
    "class PINN_twoNNs:\n",
    "    # Initialize the class\n",
    "    def __init__(self, r, u, phi, layersU, layersPhi, l1, phi_b, G):\n",
    "        \n",
    "        self.l1 = l1\n",
    "        self.r = r\n",
    "        self.u = u\n",
    "        self.umax = max(u)\n",
    "        self.phi = phi\n",
    "        self.phi_b = phi_b\n",
    "        self.G = G\n",
    "     \n",
    "        self.layersU = layersU\n",
    "        self.layersPhi = layersPhi\n",
    "        # Initialize NN\n",
    "        self.weightsU, self.biasesU = self.initialize_NN_u(self.layersU) \n",
    "        self.weightsPhi, self.biasesPhi = self.initialize_NN_phi(self.layersPhi)        \n",
    "       \n",
    "        # Initialize parameters\n",
    "        self.lambda_1 = tf.Variable([self.l1], dtype=tf.float32)\n",
    "         \n",
    "        # tf placeholders and graph\n",
    "        self.sess = tf.Session(config=tf.ConfigProto(allow_soft_placement=True,\n",
    "                                                     log_device_placement=True))\n",
    "        \n",
    "        self.r_tf = tf.placeholder(tf.float32, shape=[None, self.r.shape[1]])\n",
    "\n",
    "        self.phi_tf = tf.placeholder(tf.float32, shape=[None,  self.phi.shape[1]])\n",
    "        self.u_tf = tf.placeholder(tf.float32, shape=[None, self.u.shape[1]])\n",
    "\n",
    "        self.u_pred, self.ur_pred, self.urr_pred = self.net_NS_u(self.r_tf)\n",
    "\n",
    "        self.phi_pred = self.net_NS_phi(self.r_tf)\n",
    "        self.phir_pred = tf.gradients(self.phi_pred, self.r_tf)[0]\n",
    "        \n",
    "        self.eta = (1- self.phi_pred/0.68)**(-1.82)\n",
    "        self.eta_r = 1.82/0.68*(1-self.phi_pred/0.68)**(-2.82)*self.phir_pred\n",
    "\n",
    "        self.g_pred =  self.eta*self.ur_pred - self.G*self.r_tf\n",
    "\n",
    "        self.Nc = self.lambda_1**2*self.phi_pred*(self.phi_pred*self.urr_pred + self.ur_pred*self.phir_pred)*self.eta\n",
    "        self.Neta = self.phi_pred**2*self.ur_pred*self.eta_r\n",
    "        self.f_pred = self.Nc + self.Neta \n",
    "\n",
    "        self.Nc_ = self.phi_pred*(self.phi_pred*self.urr_pred + self.ur_pred*self.phir_pred)\n",
    "        self.Neta_ = self.phi_pred**2*self.ur_pred*self.eta_r/self.eta\n",
    "\n",
    "        # loss function\n",
    "        self.loss = tf.reduce_mean(tf.square(self.u_tf - self.u_pred)) + tf.reduce_mean(tf.square(self.phi_tf - self.phi_pred)) + \\\n",
    "                    tf.reduce_mean(tf.square(self.g_pred)) + tf.reduce_mean(tf.square(self.f_pred)) +\\\n",
    "                    tf.square(tf.reduce_mean(self.phi_pred) - self.phi_b) \n",
    "        \n",
    "        self.optimizer = tf.contrib.opt.ScipyOptimizerInterface(self.loss, \n",
    "                                                                method = 'L-BFGS-B', \n",
    "                                                                options = {'maxiter': 50000,\n",
    "                                                                           'maxfun': 50000,\n",
    "                                                                           'maxcor': 50,\n",
    "                                                                           'maxls': 50,\n",
    "                                                                           'ftol' : 1.0 * np.finfo(float).eps})        \n",
    "        \n",
    "        self.optimizer_Adam = tf.train.AdamOptimizer()\n",
    "        self.train_op_Adam = self.optimizer_Adam.minimize(self.loss)                    \n",
    "        \n",
    "        init = tf.global_variables_initializer()\n",
    "        self.sess.run(init)\n",
    "\n",
    "    def initialize_NN_u(self, layersU):        \n",
    "        weights = []\n",
    "        biases = []\n",
    "     \n",
    "        num_layers = len(layersU) \n",
    "        for l in range(0,num_layers-1):\n",
    "            W = self.xavier_init(size=[layersU[l], layersU[l+1]])\n",
    "            b = tf.Variable(tf.zeros([1,layersU[l+1]], dtype=tf.float32), dtype=tf.float32)\n",
    "            weights.append(W)\n",
    "            biases.append(b)   \n",
    "\n",
    "        return weights, biases\n",
    "\n",
    "    def initialize_NN_phi(self, layersPhi):        \n",
    "        weights = []\n",
    "        biases = []\n",
    "     \n",
    "        num_layers = len(layersPhi) \n",
    "        for l in range(0,num_layers-1):\n",
    "            W = self.xavier_init(size=[layersPhi[l], layersPhi[l+1]])\n",
    "            b = tf.Variable(tf.zeros([1,layersPhi[l+1]], dtype=tf.float32), dtype=tf.float32)\n",
    "            weights.append(W)\n",
    "            biases.append(b)   \n",
    "\n",
    "        return weights, biases\n",
    "        \n",
    "    def xavier_init(self, size):\n",
    "        in_dim = size[0]\n",
    "        out_dim = size[1]        \n",
    "        xavier_stddev = np.sqrt(2/(in_dim + out_dim))\n",
    "        return tf.Variable(tf.random.truncated_normal([in_dim, out_dim], stddev=xavier_stddev), dtype=tf.float32)\n",
    "    \n",
    "    def neural_net_u(self, X, weights, biases):\n",
    "        num_layers = len(weights) + 1\n",
    "\n",
    "        H = X\n",
    "        for l in range(0,num_layers-2):\n",
    "            W = weights[l]\n",
    "            b = biases[l]\n",
    "            H = tf.tanh(tf.add(tf.matmul(H, W), b))\n",
    "        W = weights[-1]\n",
    "        b = biases[-1]\n",
    "        Y = tf.add(tf.matmul(H, W), b)\n",
    "        return Y\n",
    "\n",
    "    def neural_net_phi(self, X, weights, biases):\n",
    "        num_layers = len(weights) + 1\n",
    "\n",
    "        H = X\n",
    "        for l in range(0,num_layers-2):\n",
    "            W = weights[l]\n",
    "            b = biases[l]\n",
    "            H = tf.tanh(tf.add(tf.matmul(H, W), b))\n",
    "        W = weights[-1]\n",
    "        b = biases[-1]\n",
    "        Y = tf.add(tf.matmul(H, W), b)\n",
    "        return Y\n",
    "\n",
    "    def net_NS_u(self,r):\n",
    "     \n",
    "        u = self.neural_net_u(r, self.weightsU, self.biasesU) # \n",
    "\n",
    "        u = u[:,0:1]\n",
    "        # ub = u_ub[:, 1:2]\n",
    "        u_r = tf.gradients(u, r)[0]\n",
    "        u_rr = tf.gradients(u_r, r)[0]\n",
    "\n",
    "        return u,u_r,u_rr \n",
    "\n",
    "    def net_NS_phi(self,r):\n",
    "     \n",
    "        phi = self.neural_net_phi(r, self.weightsPhi, self.biasesPhi) # \n",
    "\n",
    "        phi = phi[:,0:1]\n",
    "\n",
    "  \n",
    "        return phi\n",
    "\n",
    "      \n",
    "    def train(self, nIter): \n",
    "\n",
    "        tf_dict = {self.r_tf: self.r, self.u_tf: self.u, self.phi_tf: self.phi}\n",
    "        \n",
    "        start_time = time.time()\n",
    "        Iteration, Loss, L1 = [0,], [float('inf')], [self.l1,]\n",
    "        for it in range(nIter):\n",
    "            self.sess.run(self.train_op_Adam, tf_dict) # minimize loss\n",
    "\n",
    "            if it % 100 == 0:\n",
    "\n",
    "                elapsed = time.time() - start_time\n",
    "                loss_value = self.sess.run(self.loss, tf_dict)\n",
    "                lambda_1_value = self.sess.run(self.lambda_1)\n",
    "   \n",
    "                Iteration.append(it)\n",
    "                Loss.append(np.log(loss_value))\n",
    "                L1.append((lambda_1_value[0]))\n",
    "                \n",
    "        print(\"Iterations done.\" )\n",
    "        self.optimizer.minimize(self.sess,\n",
    "                                feed_dict = tf_dict,\n",
    "                                fetches = [self.loss, self.lambda_1])\n",
    "        nc = self.sess.run(self.Nc, feed_dict=tf_dict)\n",
    "        neta = self.sess.run(self.Neta, feed_dict=tf_dict)\n",
    "        \n",
    "        nc_ = self.sess.run(self.Nc_, feed_dict=tf_dict)\n",
    "        neta_ = self.sess.run(self.Neta_, feed_dict=tf_dict)\n",
    "\n",
    "        return Iteration, Loss, L1, nc, neta,  nc_, neta_\n",
    "  \n",
    "    def predict(self, r_star):\n",
    "        \n",
    "        tf_dict = {self.r_tf: r_star}\n",
    "        \n",
    "        u_star = self.sess.run(self.u_pred, tf_dict)\n",
    "        phi_star = self.sess.run(self.phi_pred, tf_dict)\n",
    "\n",
    "        return u_star, phi_star\n",
    "\n"
   ]
  },
  {
   "cell_type": "code",
   "execution_count": 9,
   "metadata": {},
   "outputs": [],
   "source": [
    "def calcPINN(fileName, phib):\n",
    "    # load data\n",
    "    df, df_u_orig, df_phi, G = load_exp_data(fileName)\n",
    "    \n",
    "    # calc PINN\n",
    "    N_train = int(0.7*len(df)) \n",
    "    layersU =  [1, 60, 60, 60, 60,60,  1]\n",
    "    layersPhi =  [1, 60, 60, 60, 60,60, 1]\n",
    "    \n",
    "    ## Load Data\n",
    "    N = len(df)\n",
    "    U_star = df['u'].values  \n",
    "    U_star = U_star.reshape(N,1)\n",
    "    Phi_star = df['phi'].values \n",
    "    Phi_star = Phi_star.reshape(N,1)\n",
    "\n",
    "    y = df['y'].values \n",
    "    R_star = y.reshape(N,1)\n",
    "\n",
    "    ## Training Data    \n",
    "    idx = np.random.choice(N, N_train, replace=False)\n",
    "    r_train = R_star[idx]\n",
    "    u_train = U_star[idx]\n",
    "    phi_train = Phi_star[idx]\n",
    "\n",
    "    ## Training: r, u, phi, Pe, layers\n",
    "    l1 = 0.4\n",
    "    model = PINN_twoNNs(r_train, u_train, phi_train, layersU, layersPhi, l1, phib, G)    \n",
    "    Iteration, Loss, L1, Nc, Neta,  Nc_, Neta_ = model.train(10000)\n",
    "    print(Loss[-1])\n",
    "    r_star = R_star \n",
    "    u_star = U_star\n",
    "    phi_star = Phi_star\n",
    "\n",
    "    ## Prediction\n",
    "    u_pred, phi_pred= model.predict(r_star)\n",
    "    lambda_1_value = model.sess.run(model.lambda_1)\n",
    "\n",
    "    print(\"kc/keta = \", lambda_1_value[0]**2)\n",
    "    model.sess.close()\n",
    "    "
   ]
  },
  {
   "cell_type": "markdown",
   "metadata": {},
   "source": [
    "# Plot results: PINN + theory"
   ]
  },
  {
   "cell_type": "code",
   "execution_count": 13,
   "metadata": {
    "colab": {
     "base_uri": "https://localhost:8080/"
    },
    "id": "-oka-1ytwjx2",
    "outputId": "d74c6cb4-8c7c-4650-ef4e-52020ecbcbf8"
   },
   "outputs": [],
   "source": [
    "def plot_result(fileName, r_star, u_pred, phi_pred, y_left, phi_left):\n",
    "    \n",
    "    df, df_u_orig, df_phi, G = load_exp_data(fileName)    \n",
    "    \n",
    "    figwidth = 9\n",
    "    figheight = 4\n",
    "    labelsize = 20\n",
    "    ticksize = 15\n",
    "    legendsize = 12\n",
    "\n",
    "    fig = plt.figure(figsize=(figwidth,figheight),constrained_layout=True)\n",
    "    widths = [figwidth/2, figwidth/2]\n",
    "    heights = [figheight]\n",
    "    spec = fig.add_gridspec(ncols=2, nrows=1, width_ratios=widths,\n",
    "                              height_ratios=heights)\n",
    "    axes = []\n",
    "    for col in range(2):\n",
    "        axes.append(fig.add_subplot(spec[0, col]))\n",
    "\n",
    "    # exp data\n",
    "    axes[0].plot(df_u_orig['y'], df_u_orig['u'], 'o', label = \"Koh et al.\")\n",
    "    axes[1].plot(df_phi['y'][::2], df_phi['phi'][::2], 'o',label = \"Koh et al.\")\n",
    "\n",
    "    # PINN result\n",
    "    axes[0].plot(r_star, u_pred, '-',color ='r', label = \"PINN\")\n",
    "    axes[1].plot(r_star, phi_pred, '-', color ='r',label = \"PINN\")\n",
    "\n",
    "    # theory\n",
    "    axes[1].plot(y_left, phi_left, '--', color = 'k', label = \"Theory\")\n",
    "    axes[1].plot(-y_left, phi_left, '--', color = 'k')\n",
    "\n",
    "    axes[0].set_xlabel(r\"$y^*$\",fontsize = labelsize)\n",
    "    axes[0].set_ylabel(r\"$u^*$\",fontsize = labelsize)\n",
    "\n",
    "    axes[1].set_xlabel(r\"$y^*$\",fontsize = labelsize)\n",
    "    axes[1].set_ylabel(r\"$\\phi$\",fontsize = labelsize)\n",
    "\n",
    "    axes[0].set_ylim([0,1])\n",
    "\n",
    "    axes[1].set_ylim([0,1])\n",
    "\n",
    "    axes[0].legend(loc = 0,fontsize = legendsize)\n",
    "    axes[1].legend(loc = 0,fontsize = legendsize)\n",
    "    \n",
    "    axes[0].tick_params(axis='both', labelsize=ticksize )      \n",
    "    axes[1].tick_params(axis='both', labelsize=ticksize )      \n"
   ]
  },
  {
   "cell_type": "code",
   "execution_count": 14,
   "metadata": {},
   "outputs": [],
   "source": [
    "figures = [\"koh_fig11\", \"koh_fig15\", \"koh_fig19\"]\n",
    "phibs = [0.1, 0.2, 0.3]\n",
    "def saveFig(i):\n",
    "    phib = phibs[i]\n",
    "    y_left, phi_left = solve_ode(phib).solve_left()\n",
    "    folderName = '../../data/koh/'\n",
    "    fileName = folderName + \"pinn_res_\" + figures[i] + \".csv\"\n",
    "    res_df = pd.read_csv(fileName )\n",
    "    r_star, u_pred, phi_pred = res_df['r'], res_df['u'], res_df['phi']\n",
    "    plot_result(figures[i], r_star, u_pred, phi_pred, y_left, phi_left)"
   ]
  },
  {
   "cell_type": "code",
   "execution_count": 16,
   "metadata": {
    "id": "Izmqe9n1iXRF"
   },
   "outputs": [],
   "source": [
    "from matplotlib import rc\n",
    "\n",
    "font = {'family' : 'sans-serif',\n",
    "        'sans-serif': ['Helvetica'],#['Helvetica'],\n",
    "        'weight' : 'normal',\n",
    "        'size': 8}\n",
    "\n",
    "rc('font', **font) \n",
    "rc('text', usetex=True)"
   ]
  },
  {
   "cell_type": "code",
   "execution_count": 17,
   "metadata": {},
   "outputs": [
    {
     "name": "stderr",
     "output_type": "stream",
     "text": [
      "/Library/Frameworks/Python.framework/Versions/3.7/lib/python3.7/site-packages/ipykernel_launcher.py:23: RuntimeWarning: invalid value encountered in true_divide\n",
      "/Library/Frameworks/Python.framework/Versions/3.7/lib/python3.7/site-packages/ipykernel_launcher.py:23: RuntimeWarning: divide by zero encountered in true_divide\n",
      "/Library/Frameworks/Python.framework/Versions/3.7/lib/python3.7/site-packages/ipykernel_launcher.py:21: RuntimeWarning: invalid value encountered in true_divide\n",
      "/Library/Frameworks/Python.framework/Versions/3.7/lib/python3.7/site-packages/ipykernel_launcher.py:21: RuntimeWarning: divide by zero encountered in true_divide\n"
     ]
    },
    {
     "name": "stdout",
     "output_type": "stream",
     "text": [
      "G is:  -1.5063024209117382\n"
     ]
    },
    {
     "name": "stderr",
     "output_type": "stream",
     "text": [
      "/Library/Frameworks/Python.framework/Versions/3.7/lib/python3.7/site-packages/matplotlib/font_manager.py:1241: UserWarning: findfont: Font family ['sans-serif'] not found. Falling back to DejaVu Sans.\n",
      "  (prop.get_family(), self.defaultFamily[fontext]))\n",
      "/Library/Frameworks/Python.framework/Versions/3.7/lib/python3.7/site-packages/matplotlib/font_manager.py:1241: UserWarning: findfont: Font family ['sans-serif'] not found. Falling back to DejaVu Sans.\n",
      "  (prop.get_family(), self.defaultFamily[fontext]))\n"
     ]
    },
    {
     "data": {
      "image/png": "[encoded data removed]",
      "text/plain": [
       "<Figure size 648x288 with 2 Axes>"
      ]
     },
     "metadata": {
      "needs_background": "light"
     },
     "output_type": "display_data"
    }
   ],
   "source": [
    "saveFig(0)"
   ]
  },
  {
   "cell_type": "code",
   "execution_count": 18,
   "metadata": {},
   "outputs": [
    {
     "name": "stderr",
     "output_type": "stream",
     "text": [
      "/Library/Frameworks/Python.framework/Versions/3.7/lib/python3.7/site-packages/ipykernel_launcher.py:23: RuntimeWarning: invalid value encountered in true_divide\n",
      "/Library/Frameworks/Python.framework/Versions/3.7/lib/python3.7/site-packages/ipykernel_launcher.py:23: RuntimeWarning: divide by zero encountered in true_divide\n",
      "/Library/Frameworks/Python.framework/Versions/3.7/lib/python3.7/site-packages/ipykernel_launcher.py:21: RuntimeWarning: invalid value encountered in true_divide\n",
      "/Library/Frameworks/Python.framework/Versions/3.7/lib/python3.7/site-packages/ipykernel_launcher.py:21: RuntimeWarning: divide by zero encountered in true_divide\n"
     ]
    },
    {
     "name": "stdout",
     "output_type": "stream",
     "text": [
      "G is:  -1.2196653152147239\n"
     ]
    },
    {
     "data": {
      "image/png": "[encoded data removed]",
      "text/plain": [
       "<Figure size 648x288 with 2 Axes>"
      ]
     },
     "metadata": {
      "needs_background": "light"
     },
     "output_type": "display_data"
    }
   ],
   "source": [
    "saveFig(1)"
   ]
  },
  {
   "cell_type": "code",
   "execution_count": 19,
   "metadata": {},
   "outputs": [
    {
     "name": "stderr",
     "output_type": "stream",
     "text": [
      "/Library/Frameworks/Python.framework/Versions/3.7/lib/python3.7/site-packages/ipykernel_launcher.py:23: RuntimeWarning: invalid value encountered in true_divide\n",
      "/Library/Frameworks/Python.framework/Versions/3.7/lib/python3.7/site-packages/ipykernel_launcher.py:23: RuntimeWarning: divide by zero encountered in true_divide\n",
      "/Library/Frameworks/Python.framework/Versions/3.7/lib/python3.7/site-packages/ipykernel_launcher.py:21: RuntimeWarning: invalid value encountered in true_divide\n",
      "/Library/Frameworks/Python.framework/Versions/3.7/lib/python3.7/site-packages/ipykernel_launcher.py:21: RuntimeWarning: divide by zero encountered in true_divide\n",
      "/Library/Frameworks/Python.framework/Versions/3.7/lib/python3.7/site-packages/ipykernel_launcher.py:21: RuntimeWarning: invalid value encountered in multiply\n"
     ]
    },
    {
     "name": "stdout",
     "output_type": "stream",
     "text": [
      "G is:  -1.0472881733158999\n"
     ]
    },
    {
     "data": {
      "image/png": "[encoded data removed]",
      "text/plain": [
       "<Figure size 648x288 with 2 Axes>"
      ]
     },
     "metadata": {
      "needs_background": "light"
     },
     "output_type": "display_data"
    }
   ],
   "source": [
    "saveFig(2)"
   ]
  }
 ],
 "metadata": {
  "colab": {
   "name": "koh.ipynb",
   "provenance": []
  },
  "kernelspec": {
   "display_name": "Python 3",
   "language": "python",
   "name": "python3"
  },
  "language_info": {
   "codemirror_mode": {
    "name": "ipython",
    "version": 3
   },
   "file_extension": ".py",
   "mimetype": "text/x-python",
   "name": "python",
   "nbconvert_exporter": "python",
   "pygments_lexer": "ipython3",
   "version": "3.7.2"
  }
 },
 "nbformat": 4,
 "nbformat_minor": 1
}
